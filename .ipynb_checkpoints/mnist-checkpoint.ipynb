{
 "cells": [
  {
   "cell_type": "code",
   "execution_count": 1,
   "id": "dfa75cfa",
   "metadata": {},
   "outputs": [],
   "source": [
    "import torch\n",
    "import torch.nn as nn\n",
    "from torch.autograd import Variable\n",
    "from torch.utils.data import DataLoader\n",
    "from torch.utils.data import TensorDataset\n",
    "import torchvision.transforms as transforms\n",
    "import torchvision.datasets as datas\n",
    "import matplotlib.pyplot as plt\n",
    "from sklearn.model_selection import train_test_split\n",
    "from sklearn.metrics import accuracy_score\n",
    "import pandas as pd\n",
    "import numpy as np"
   ]
  },
  {
   "cell_type": "code",
   "execution_count": 2,
   "id": "daf597be",
   "metadata": {},
   "outputs": [],
   "source": [
    "train = datas.MNIST(root = './data/', train = True, download = True, transform = transforms.ToTensor())\n",
    "test = datas.MNIST(root = './data/', train = False, download = True, transform = transforms.ToTensor())"
   ]
  },
  {
   "cell_type": "code",
   "execution_count": 3,
   "id": "6f885d7a",
   "metadata": {},
   "outputs": [
    {
     "name": "stdout",
     "output_type": "stream",
     "text": [
      "5,0,4,1,9,2,1,3,1,"
     ]
    },
    {
     "data": {
      "image/png": "[encoded data removed]",
      "text/plain": [
       "<Figure size 400x450 with 9 Axes>"
      ]
     },
     "metadata": {},
     "output_type": "display_data"
    }
   ],
   "source": [
    "for i in range(9):\n",
    "    image = train[i][0].numpy().squeeze()\n",
    "    plt.subplot(3,3,i+1)\n",
    "    plt.gcf().set_size_inches(4,4.5)\n",
    "    plt.gca().axis('off')\n",
    "    plt.imshow(image, cmap = 'gray') \n",
    "    plt.title(train[i][1])\n",
    "#     print(train[i][1], end = ',')"
   ]
  },
  {
   "cell_type": "code",
   "execution_count": 4,
   "id": "56a3a796",
   "metadata": {},
   "outputs": [
    {
     "data": {
      "text/plain": [
       "120"
      ]
     },
     "execution_count": 4,
     "metadata": {},
     "output_type": "execute_result"
    }
   ],
   "source": [
    "total_batch = len(train)\n",
    "data_per_batch = 500\n",
    "batches = int(total_batch / data_per_batch)\n",
    "iterations = 3000\n",
    "epoch = int(iterations / data_per_batch)\n",
    "batches"
   ]
  },
  {
   "cell_type": "code",
   "execution_count": 5,
   "id": "53c0e741",
   "metadata": {
    "scrolled": true
   },
   "outputs": [],
   "source": [
    "train_loader = DataLoader(train, batch_size = batches, shuffle = True)\n",
    "validation_loader = DataLoader(test, batch_size = 5000, shuffle = False)"
   ]
  },
  {
   "cell_type": "code",
   "execution_count": 6,
   "id": "aca92f7b",
   "metadata": {},
   "outputs": [],
   "source": [
    "class classifying_model(nn.Module):\n",
    "    def __init__(self, input_shapes, output_shapes):\n",
    "        super(classifying_model, self).__init__()\n",
    "        self.conv1 = nn.Conv2d(in_channels = 1, out_channels = 16, kernel_size = 4, stride = 1, padding = 0)\n",
    "        self.relu = nn.ReLU(inplace = True)\n",
    "        self.maxpool = nn.MaxPool2d(kernel_size = 2)\n",
    "        self.conv2 = nn.Conv2d(in_channels = 16, out_channels = 32, kernel_size = 4, stride = 1, padding = 0)\n",
    "        \n",
    "        self.fc = nn.Sequential(\n",
    "                        nn.Linear(32*4*4, 225),\n",
    "                        nn.ReLU(inplace = True),\n",
    "                        nn.BatchNorm1d(225),\n",
    "                        nn.Linear(225, output_shapes)\n",
    "                        )\n",
    "    def forward(self, x):\n",
    "        out = self.maxpool(self.relu(self.conv1(x)))\n",
    "        out = self.maxpool(self.relu(self.conv2(out)))\n",
    "        out = out.view(out.shape[0], -1)\n",
    "        out = self.fc(out)\n",
    "        return out"
   ]
  },
  {
   "cell_type": "code",
   "execution_count": 7,
   "id": "eae86cdd",
   "metadata": {},
   "outputs": [],
   "source": [
    "input_size = 28 * 28\n",
    "learning_rate = 0.1"
   ]
  },
  {
   "cell_type": "code",
   "execution_count": 8,
   "id": "f6e732e2",
   "metadata": {},
   "outputs": [],
   "source": [
    "model = classifying_model(input_shapes = input_size, output_shapes = 10)\n",
    "# model2 = CNNModel()\n"
   ]
  },
  {
   "cell_type": "code",
   "execution_count": 9,
   "id": "a861f8a0",
   "metadata": {},
   "outputs": [
    {
     "data": {
      "text/plain": [
       "torch.Size([120, 784])"
      ]
     },
     "execution_count": 9,
     "metadata": {},
     "output_type": "execute_result"
    }
   ],
   "source": [
    "i, j = next(iter(train_loader))\n",
    "i.view(-1, 28*28).shape"
   ]
  },
  {
   "cell_type": "code",
   "execution_count": 10,
   "id": "98250acf",
   "metadata": {},
   "outputs": [],
   "source": [
    "def training(model,train_loader, validation_loader, epoch = 6, batches = 120):\n",
    "    criterion = nn.CrossEntropyLoss()\n",
    "    optimizer = torch.optim.SGD(model.parameters(), lr = learning_rate)\n",
    "    print('started')\n",
    "    itera = 0\n",
    "    loss_list = []\n",
    "    accuracy_list = []\n",
    "    for i in range(epoch):\n",
    "        for n, (images, label) in enumerate(train_loader):\n",
    "    #         images = Variable(images.view(-1, 28 * 28))\n",
    "            model.train()\n",
    "            optimizer.zero_grad()\n",
    "            pred = model(images)\n",
    "            _, predictions = torch.max(pred, 1)\n",
    "            accuracy = accuracy_score(predictions, label)\n",
    "            loss = criterion(pred, label)\n",
    "            loss.backward()\n",
    "            optimizer.step()\n",
    "            itera += 1\n",
    "            if n % 300 == 0:\n",
    "                for j, (images, label) in enumerate(validation_loader):\n",
    "    #                 images = Variable(images.view(-1, 28 * 28))\n",
    "                    model.eval()\n",
    "                    pre = model(images)\n",
    "                    _, predictions = torch.max(pre, 1)\n",
    "                    test_accuracy = accuracy_score(predictions, label)\n",
    "                    test_loss = criterion(pre, label)\n",
    "\n",
    "\n",
    "                print(f'{itera} | training_loss ---> {loss:.4f} | train_acc ---> {accuracy:.4f} | test_acc ---> {test_accuracy:.4f} | validating_loss ---> {test_loss:.4f}')\n",
    "            loss_list.append(loss.data)\n",
    "            accuracy_list.append(accuracy)\n",
    "    print('finished')            \n",
    "    return model, [loss_list, test_loss], [accuracy_list, test_accuracy], predictions, label"
   ]
  },
  {
   "cell_type": "code",
   "execution_count": 11,
   "id": "1c0b3987",
   "metadata": {},
   "outputs": [
    {
     "name": "stdout",
     "output_type": "stream",
     "text": [
      "started\n",
      "1 | training_loss ---> 2.3095 | train_acc ---> 0.0833 | test_acc ---> 0.2878 | validating_loss ---> 2.2732\n",
      "301 | training_loss ---> 0.0750 | train_acc ---> 0.9833 | test_acc ---> 0.9862 | validating_loss ---> 0.0465\n",
      "501 | training_loss ---> 0.0510 | train_acc ---> 0.9917 | test_acc ---> 0.9910 | validating_loss ---> 0.0303\n",
      "801 | training_loss ---> 0.0352 | train_acc ---> 0.9750 | test_acc ---> 0.9930 | validating_loss ---> 0.0279\n",
      "1001 | training_loss ---> 0.0112 | train_acc ---> 1.0000 | test_acc ---> 0.9926 | validating_loss ---> 0.0253\n",
      "1301 | training_loss ---> 0.0098 | train_acc ---> 1.0000 | test_acc ---> 0.9916 | validating_loss ---> 0.0277\n",
      "1501 | training_loss ---> 0.0270 | train_acc ---> 1.0000 | test_acc ---> 0.9926 | validating_loss ---> 0.0237\n",
      "1801 | training_loss ---> 0.0076 | train_acc ---> 1.0000 | test_acc ---> 0.9948 | validating_loss ---> 0.0198\n",
      "2001 | training_loss ---> 0.0371 | train_acc ---> 0.9833 | test_acc ---> 0.9920 | validating_loss ---> 0.0226\n",
      "2301 | training_loss ---> 0.0622 | train_acc ---> 0.9833 | test_acc ---> 0.9944 | validating_loss ---> 0.0194\n",
      "2501 | training_loss ---> 0.0084 | train_acc ---> 1.0000 | test_acc ---> 0.9928 | validating_loss ---> 0.0258\n",
      "2801 | training_loss ---> 0.0271 | train_acc ---> 0.9917 | test_acc ---> 0.9938 | validating_loss ---> 0.0167\n",
      "finished\n"
     ]
    }
   ],
   "source": []
  },
  {
   "cell_type": "code",
   "execution_count": 18,
   "id": "564ef054",
   "metadata": {},
   "outputs": [
    {
     "data": {
      "image/png": "[encoded data removed]",
      "text/plain": [
       "<Figure size 640x480 with 2 Axes>"
      ]
     },
     "metadata": {},
     "output_type": "display_data"
    }
   ],
   "source": [
    "def plot_acc(loss_list, accuracy_list):# Plot the loss and accuracy\n",
    "    fig, ax1 = plt.subplots()\n",
    "    color = 'tab:red'\n",
    "    ax1.plot(loss_list,color=color)\n",
    "    ax1.set_xlabel('epoch',color=color)\n",
    "    ax1.set_ylabel('total loss',color=color)\n",
    "    ax1.tick_params(axis='y', color=color)\n",
    "\n",
    "    ax2 = ax1.twinx()  \n",
    "    color = 'tab:blue'\n",
    "    ax2.set_ylabel('accuracy', color=color)  \n",
    "    ax2.plot( accuracy_list, color=color)\n",
    "    ax2.tick_params(axis='y', color=color)\n",
    "    fig.tight_layout()\n"
   ]
  },
  {
   "cell_type": "markdown",
   "id": "71ab8b19",
   "metadata": {},
   "source": [
    "## checking out some predictions made"
   ]
  },
  {
   "cell_type": "code",
   "execution_count": 13,
   "id": "65f1a946",
   "metadata": {},
   "outputs": [
    {
     "name": "stdout",
     "output_type": "stream",
     "text": [
      "tensor([4, 1, 7, 5, 8, 8, 4, 4, 4, 3, 7, 8, 8, 2, 9, 1, 6, 6, 4, 4, 3, 0, 6, 8,\n",
      "        8])\n"
     ]
    },
    {
     "ename": "NameError",
     "evalue": "name 'label' is not defined",
     "output_type": "error",
     "traceback": [
      "\u001b[1;31m---------------------------------------------------------------------------\u001b[0m",
      "\u001b[1;31mNameError\u001b[0m                                 Traceback (most recent call last)",
      "Cell \u001b[1;32mIn[13], line 2\u001b[0m\n\u001b[0;32m      1\u001b[0m \u001b[38;5;28mprint\u001b[39m(predictions[:\u001b[38;5;241m25\u001b[39m])\n\u001b[1;32m----> 2\u001b[0m \u001b[38;5;28mprint\u001b[39m(label[:\u001b[38;5;241m25\u001b[39m])\n\u001b[0;32m      3\u001b[0m \u001b[38;5;28;01mfor\u001b[39;00m i \u001b[38;5;129;01min\u001b[39;00m \u001b[38;5;28mrange\u001b[39m(\u001b[38;5;241m25\u001b[39m):\n\u001b[0;32m      4\u001b[0m     plt\u001b[38;5;241m.\u001b[39msubplot(\u001b[38;5;241m5\u001b[39m,\u001b[38;5;241m5\u001b[39m,i\u001b[38;5;241m+\u001b[39m\u001b[38;5;241m1\u001b[39m \u001b[38;5;241m%\u001b[39m \u001b[38;5;241m5\u001b[39m)\n",
      "\u001b[1;31mNameError\u001b[0m: name 'label' is not defined"
     ]
    }
   ],
   "source": [
    "# print(predictions[:25])\n",
    "# print(label[:25])\n",
    "# for i in range(25):\n",
    "#     plt.subplot(5,5,i+1 % 5)\n",
    "#     im = images[i].view(28, 28)\n",
    "#     plt.imshow(im)"
   ]
  },
  {
   "cell_type": "markdown",
   "id": "32c4dfb1",
   "metadata": {},
   "source": [
    "## checking the wrong predictions made"
   ]
  },
  {
   "cell_type": "code",
   "execution_count": 14,
   "id": "4ab4d017",
   "metadata": {},
   "outputs": [
    {
     "ename": "NameError",
     "evalue": "name 'label' is not defined",
     "output_type": "error",
     "traceback": [
      "\u001b[1;31m---------------------------------------------------------------------------\u001b[0m",
      "\u001b[1;31mNameError\u001b[0m                                 Traceback (most recent call last)",
      "Cell \u001b[1;32mIn[14], line 2\u001b[0m\n\u001b[0;32m      1\u001b[0m \u001b[38;5;28;01mimport\u001b[39;00m \u001b[38;5;21;01mmath\u001b[39;00m\n\u001b[1;32m----> 2\u001b[0m \u001b[38;5;28mprint\u001b[39m(\u001b[38;5;124mf\u001b[39m\u001b[38;5;124m'\u001b[39m\u001b[38;5;124m wrong predicted === \u001b[39m\u001b[38;5;132;01m{\u001b[39;00mpredictions[predictions\u001b[38;5;250m \u001b[39m\u001b[38;5;241m!=\u001b[39m\u001b[38;5;250m \u001b[39mlabel]\u001b[38;5;132;01m}\u001b[39;00m\u001b[38;5;124m'\u001b[39m)\n\u001b[0;32m      3\u001b[0m \u001b[38;5;28mprint\u001b[39m(\u001b[38;5;124mf\u001b[39m\u001b[38;5;124m'\u001b[39m\u001b[38;5;124mcorrect label === \u001b[39m\u001b[38;5;132;01m{\u001b[39;00mlabel[predictions\u001b[38;5;250m \u001b[39m\u001b[38;5;241m!=\u001b[39m\u001b[38;5;250m \u001b[39mlabel]\u001b[38;5;132;01m}\u001b[39;00m\u001b[38;5;124m'\u001b[39m)\n\u001b[0;32m      4\u001b[0m n_wrong \u001b[38;5;241m=\u001b[39m images[predictions \u001b[38;5;241m!=\u001b[39m label]\u001b[38;5;241m.\u001b[39mshape[\u001b[38;5;241m0\u001b[39m]\n",
      "\u001b[1;31mNameError\u001b[0m: name 'label' is not defined"
     ]
    }
   ],
   "source": [
    "# import math\n",
    "# print(f' wrong predicted === {predictions[predictions != label]}')\n",
    "# print(f'correct label === {label[predictions != label]}')\n",
    "# n_wrong = images[predictions != label].shape[0]\n",
    "# root = math.ceil(math.sqrt(n_wrong))\n",
    "# for i in range(n_wrong):\n",
    "#     plt.subplot(root, root,i+1 % 5)\n",
    "#     im = images[predictions != label][i].view(28, 28)\n",
    "#     plt.imshow(im)"
   ]
  },
  {
   "cell_type": "code",
   "execution_count": 15,
   "id": "3f22da7f",
   "metadata": {},
   "outputs": [
    {
     "data": {
      "image/png": "[encoded data removed]",
      "text/plain": [
       "<Figure size 640x480 with 1 Axes>"
      ]
     },
     "metadata": {},
     "output_type": "display_data"
    }
   ],
   "source": [
    "# import torchvision\n",
    "# def show(img):\n",
    "#     \"\"\"Show PyTorch tensor img as an image in matplotlib.\"\"\"\n",
    "#     npimg = img.cpu().detach().numpy()\n",
    "#     plt.imshow(np.transpose(npimg, (1,2,0)), interpolation='nearest')\n",
    "#     plt.grid(False)\n",
    "#     plt.gca().axis('off')\n",
    "    \n",
    "# def display_thumb(img):\n",
    "#   display.display(transforms.Resize(128)(img))\n",
    "\n",
    "# assert model.fc[3].weight.shape == (10, 15 * 15)\n",
    "# show(torchvision.utils.make_grid(\n",
    "#     model.fc[3].weight.view(10, 1, 15, 15),\n",
    "#     normalize=True,\n",
    "#     nrow=5,\n",
    "# ))"
   ]
  },
  {
   "cell_type": "code",
   "execution_count": 16,
   "id": "b56ef0d1",
   "metadata": {},
   "outputs": [
    {
     "ename": "NameError",
     "evalue": "name 'images' is not defined",
     "output_type": "error",
     "traceback": [
      "\u001b[1;31m---------------------------------------------------------------------------\u001b[0m",
      "\u001b[1;31mNameError\u001b[0m                                 Traceback (most recent call last)",
      "Cell \u001b[1;32mIn[16], line 1\u001b[0m\n\u001b[1;32m----> 1\u001b[0m plt\u001b[38;5;241m.\u001b[39mimshow(images[\u001b[38;5;241m0\u001b[39m]\u001b[38;5;241m.\u001b[39mview(\u001b[38;5;241m28\u001b[39m, \u001b[38;5;241m28\u001b[39m))\n",
      "\u001b[1;31mNameError\u001b[0m: name 'images' is not defined"
     ]
    }
   ],
   "source": [
    "# plt.imshow(images[0].view(28, 28))"
   ]
  },
  {
   "cell_type": "code",
   "execution_count": 17,
   "id": "4b7fc92c",
   "metadata": {},
   "outputs": [
    {
     "data": {
      "text/plain": [
       "['model.pkl']"
      ]
     },
     "execution_count": 17,
     "metadata": {},
     "output_type": "execute_result"
    }
   ],
   "source": []
  },
  {
   "cell_type": "code",
   "execution_count": null,
   "id": "a1f71cb1",
   "metadata": {},
   "outputs": [],
   "source": [
    "if __name__ == '__main__':\n",
    "    model, [loss_list, test_loss], [accuracy_list, test_accuracy], predictions, label  = training(model, train_loader, validation_loader)\n",
    "    plot_acc(loss_list, accuracy_list)\n",
    "    \n",
    "    # Save the entire model\n",
    "import joblib\n",
    "joblib.dump(model, 'model.pkl')"
   ]
  }
 ],
 "metadata": {
  "kernelspec": {
   "display_name": "Python 3 (ipykernel)",
   "language": "python",
   "name": "python3"
  },
  "language_info": {
   "codemirror_mode": {
    "name": "ipython",
    "version": 3
   },
   "file_extension": ".py",
   "mimetype": "text/x-python",
   "name": "python",
   "nbconvert_exporter": "python",
   "pygments_lexer": "ipython3",
   "version": "3.11.4"
  }
 },
 "nbformat": 4,
 "nbformat_minor": 5
}
