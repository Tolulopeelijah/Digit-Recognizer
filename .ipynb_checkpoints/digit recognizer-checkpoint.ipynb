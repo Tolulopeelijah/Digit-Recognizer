{
 "cells": [
  {
   "cell_type": "code",
   "execution_count": 1,
   "id": "1eaeefef",
   "metadata": {},
   "outputs": [],
   "source": [
    "import pandas as pd\n",
    "import torch\n",
    "import torch.nn as nn\n",
    "from torch.autograd import Variable\n",
    "from torch.utils.data import DataLoader\n",
    "from sklearn.model_selection import train_test_split\n",
    "from sklearn.metrics import accuracy_score\n",
    "from torch.utils.data import TensorDataset\n",
    "from torch.utils.data import Dataset\n",
    "import matplotlib.pyplot as plt"
   ]
  },
  {
   "cell_type": "code",
   "execution_count": 2,
   "id": "565bebbd",
   "metadata": {},
   "outputs": [],
   "source": [
    "train = pd.read_csv('digit-recognizer/train.csv')\n",
    "test = pd.read_csv('digit-recognizer/test.csv')\n",
    "sample_submission = pd.read_csv('digit-recognizer/sample_submission.csv')"
   ]
  },
  {
   "cell_type": "code",
   "execution_count": 3,
   "id": "289dbfbe",
   "metadata": {},
   "outputs": [
    {
     "data": {
      "text/html": [
       "<div>\n",
       "<style scoped>\n",
       "    .dataframe tbody tr th:only-of-type {\n",
       "        vertical-align: middle;\n",
       "    }\n",
       "\n",
       "    .dataframe tbody tr th {\n",
       "        vertical-align: top;\n",
       "    }\n",
       "\n",
       "    .dataframe thead th {\n",
       "        text-align: right;\n",
       "    }\n",
       "</style>\n",
       "<table border=\"1\" class=\"dataframe\">\n",
       "  <thead>\n",
       "    <tr style=\"text-align: right;\">\n",
       "      <th></th>\n",
       "      <th>label</th>\n",
       "      <th>pixel0</th>\n",
       "      <th>pixel1</th>\n",
       "      <th>pixel2</th>\n",
       "      <th>pixel3</th>\n",
       "      <th>pixel4</th>\n",
       "      <th>pixel5</th>\n",
       "      <th>pixel6</th>\n",
       "      <th>pixel7</th>\n",
       "      <th>pixel8</th>\n",
       "      <th>...</th>\n",
       "      <th>pixel774</th>\n",
       "      <th>pixel775</th>\n",
       "      <th>pixel776</th>\n",
       "      <th>pixel777</th>\n",
       "      <th>pixel778</th>\n",
       "      <th>pixel779</th>\n",
       "      <th>pixel780</th>\n",
       "      <th>pixel781</th>\n",
       "      <th>pixel782</th>\n",
       "      <th>pixel783</th>\n",
       "    </tr>\n",
       "  </thead>\n",
       "  <tbody>\n",
       "    <tr>\n",
       "      <th>585</th>\n",
       "      <td>0</td>\n",
       "      <td>0</td>\n",
       "      <td>0</td>\n",
       "      <td>0</td>\n",
       "      <td>0</td>\n",
       "      <td>0</td>\n",
       "      <td>0</td>\n",
       "      <td>0</td>\n",
       "      <td>0</td>\n",
       "      <td>0</td>\n",
       "      <td>...</td>\n",
       "      <td>0</td>\n",
       "      <td>0</td>\n",
       "      <td>0</td>\n",
       "      <td>0</td>\n",
       "      <td>0</td>\n",
       "      <td>0</td>\n",
       "      <td>0</td>\n",
       "      <td>0</td>\n",
       "      <td>0</td>\n",
       "      <td>0</td>\n",
       "    </tr>\n",
       "    <tr>\n",
       "      <th>31025</th>\n",
       "      <td>5</td>\n",
       "      <td>0</td>\n",
       "      <td>0</td>\n",
       "      <td>0</td>\n",
       "      <td>0</td>\n",
       "      <td>0</td>\n",
       "      <td>0</td>\n",
       "      <td>0</td>\n",
       "      <td>0</td>\n",
       "      <td>0</td>\n",
       "      <td>...</td>\n",
       "      <td>0</td>\n",
       "      <td>0</td>\n",
       "      <td>0</td>\n",
       "      <td>0</td>\n",
       "      <td>0</td>\n",
       "      <td>0</td>\n",
       "      <td>0</td>\n",
       "      <td>0</td>\n",
       "      <td>0</td>\n",
       "      <td>0</td>\n",
       "    </tr>\n",
       "    <tr>\n",
       "      <th>9377</th>\n",
       "      <td>3</td>\n",
       "      <td>0</td>\n",
       "      <td>0</td>\n",
       "      <td>0</td>\n",
       "      <td>0</td>\n",
       "      <td>0</td>\n",
       "      <td>0</td>\n",
       "      <td>0</td>\n",
       "      <td>0</td>\n",
       "      <td>0</td>\n",
       "      <td>...</td>\n",
       "      <td>0</td>\n",
       "      <td>0</td>\n",
       "      <td>0</td>\n",
       "      <td>0</td>\n",
       "      <td>0</td>\n",
       "      <td>0</td>\n",
       "      <td>0</td>\n",
       "      <td>0</td>\n",
       "      <td>0</td>\n",
       "      <td>0</td>\n",
       "    </tr>\n",
       "  </tbody>\n",
       "</table>\n",
       "<p>3 rows × 785 columns</p>\n",
       "</div>"
      ],
      "text/plain": [
       "       label  pixel0  pixel1  pixel2  pixel3  pixel4  pixel5  pixel6  pixel7  \\\n",
       "585        0       0       0       0       0       0       0       0       0   \n",
       "31025      5       0       0       0       0       0       0       0       0   \n",
       "9377       3       0       0       0       0       0       0       0       0   \n",
       "\n",
       "       pixel8  ...  pixel774  pixel775  pixel776  pixel777  pixel778  \\\n",
       "585         0  ...         0         0         0         0         0   \n",
       "31025       0  ...         0         0         0         0         0   \n",
       "9377        0  ...         0         0         0         0         0   \n",
       "\n",
       "       pixel779  pixel780  pixel781  pixel782  pixel783  \n",
       "585           0         0         0         0         0  \n",
       "31025         0         0         0         0         0  \n",
       "9377          0         0         0         0         0  \n",
       "\n",
       "[3 rows x 785 columns]"
      ]
     },
     "execution_count": 3,
     "metadata": {},
     "output_type": "execute_result"
    }
   ],
   "source": [
    "train.sample(3)"
   ]
  },
  {
   "cell_type": "code",
   "execution_count": 4,
   "id": "4258af0b",
   "metadata": {},
   "outputs": [
    {
     "data": {
      "text/html": [
       "<div>\n",
       "<style scoped>\n",
       "    .dataframe tbody tr th:only-of-type {\n",
       "        vertical-align: middle;\n",
       "    }\n",
       "\n",
       "    .dataframe tbody tr th {\n",
       "        vertical-align: top;\n",
       "    }\n",
       "\n",
       "    .dataframe thead th {\n",
       "        text-align: right;\n",
       "    }\n",
       "</style>\n",
       "<table border=\"1\" class=\"dataframe\">\n",
       "  <thead>\n",
       "    <tr style=\"text-align: right;\">\n",
       "      <th></th>\n",
       "      <th>count</th>\n",
       "      <th>mean</th>\n",
       "      <th>std</th>\n",
       "      <th>min</th>\n",
       "      <th>25%</th>\n",
       "      <th>50%</th>\n",
       "      <th>75%</th>\n",
       "      <th>max</th>\n",
       "    </tr>\n",
       "  </thead>\n",
       "  <tbody>\n",
       "    <tr>\n",
       "      <th>label</th>\n",
       "      <td>42000.0</td>\n",
       "      <td>4.456643</td>\n",
       "      <td>2.887730</td>\n",
       "      <td>0.0</td>\n",
       "      <td>2.0</td>\n",
       "      <td>4.0</td>\n",
       "      <td>7.0</td>\n",
       "      <td>9.0</td>\n",
       "    </tr>\n",
       "    <tr>\n",
       "      <th>pixel0</th>\n",
       "      <td>42000.0</td>\n",
       "      <td>0.000000</td>\n",
       "      <td>0.000000</td>\n",
       "      <td>0.0</td>\n",
       "      <td>0.0</td>\n",
       "      <td>0.0</td>\n",
       "      <td>0.0</td>\n",
       "      <td>0.0</td>\n",
       "    </tr>\n",
       "    <tr>\n",
       "      <th>pixel1</th>\n",
       "      <td>42000.0</td>\n",
       "      <td>0.000000</td>\n",
       "      <td>0.000000</td>\n",
       "      <td>0.0</td>\n",
       "      <td>0.0</td>\n",
       "      <td>0.0</td>\n",
       "      <td>0.0</td>\n",
       "      <td>0.0</td>\n",
       "    </tr>\n",
       "    <tr>\n",
       "      <th>pixel2</th>\n",
       "      <td>42000.0</td>\n",
       "      <td>0.000000</td>\n",
       "      <td>0.000000</td>\n",
       "      <td>0.0</td>\n",
       "      <td>0.0</td>\n",
       "      <td>0.0</td>\n",
       "      <td>0.0</td>\n",
       "      <td>0.0</td>\n",
       "    </tr>\n",
       "    <tr>\n",
       "      <th>pixel3</th>\n",
       "      <td>42000.0</td>\n",
       "      <td>0.000000</td>\n",
       "      <td>0.000000</td>\n",
       "      <td>0.0</td>\n",
       "      <td>0.0</td>\n",
       "      <td>0.0</td>\n",
       "      <td>0.0</td>\n",
       "      <td>0.0</td>\n",
       "    </tr>\n",
       "    <tr>\n",
       "      <th>...</th>\n",
       "      <td>...</td>\n",
       "      <td>...</td>\n",
       "      <td>...</td>\n",
       "      <td>...</td>\n",
       "      <td>...</td>\n",
       "      <td>...</td>\n",
       "      <td>...</td>\n",
       "      <td>...</td>\n",
       "    </tr>\n",
       "    <tr>\n",
       "      <th>pixel779</th>\n",
       "      <td>42000.0</td>\n",
       "      <td>0.002857</td>\n",
       "      <td>0.414264</td>\n",
       "      <td>0.0</td>\n",
       "      <td>0.0</td>\n",
       "      <td>0.0</td>\n",
       "      <td>0.0</td>\n",
       "      <td>62.0</td>\n",
       "    </tr>\n",
       "    <tr>\n",
       "      <th>pixel780</th>\n",
       "      <td>42000.0</td>\n",
       "      <td>0.000000</td>\n",
       "      <td>0.000000</td>\n",
       "      <td>0.0</td>\n",
       "      <td>0.0</td>\n",
       "      <td>0.0</td>\n",
       "      <td>0.0</td>\n",
       "      <td>0.0</td>\n",
       "    </tr>\n",
       "    <tr>\n",
       "      <th>pixel781</th>\n",
       "      <td>42000.0</td>\n",
       "      <td>0.000000</td>\n",
       "      <td>0.000000</td>\n",
       "      <td>0.0</td>\n",
       "      <td>0.0</td>\n",
       "      <td>0.0</td>\n",
       "      <td>0.0</td>\n",
       "      <td>0.0</td>\n",
       "    </tr>\n",
       "    <tr>\n",
       "      <th>pixel782</th>\n",
       "      <td>42000.0</td>\n",
       "      <td>0.000000</td>\n",
       "      <td>0.000000</td>\n",
       "      <td>0.0</td>\n",
       "      <td>0.0</td>\n",
       "      <td>0.0</td>\n",
       "      <td>0.0</td>\n",
       "      <td>0.0</td>\n",
       "    </tr>\n",
       "    <tr>\n",
       "      <th>pixel783</th>\n",
       "      <td>42000.0</td>\n",
       "      <td>0.000000</td>\n",
       "      <td>0.000000</td>\n",
       "      <td>0.0</td>\n",
       "      <td>0.0</td>\n",
       "      <td>0.0</td>\n",
       "      <td>0.0</td>\n",
       "      <td>0.0</td>\n",
       "    </tr>\n",
       "  </tbody>\n",
       "</table>\n",
       "<p>785 rows × 8 columns</p>\n",
       "</div>"
      ],
      "text/plain": [
       "            count      mean       std  min  25%  50%  75%   max\n",
       "label     42000.0  4.456643  2.887730  0.0  2.0  4.0  7.0   9.0\n",
       "pixel0    42000.0  0.000000  0.000000  0.0  0.0  0.0  0.0   0.0\n",
       "pixel1    42000.0  0.000000  0.000000  0.0  0.0  0.0  0.0   0.0\n",
       "pixel2    42000.0  0.000000  0.000000  0.0  0.0  0.0  0.0   0.0\n",
       "pixel3    42000.0  0.000000  0.000000  0.0  0.0  0.0  0.0   0.0\n",
       "...           ...       ...       ...  ...  ...  ...  ...   ...\n",
       "pixel779  42000.0  0.002857  0.414264  0.0  0.0  0.0  0.0  62.0\n",
       "pixel780  42000.0  0.000000  0.000000  0.0  0.0  0.0  0.0   0.0\n",
       "pixel781  42000.0  0.000000  0.000000  0.0  0.0  0.0  0.0   0.0\n",
       "pixel782  42000.0  0.000000  0.000000  0.0  0.0  0.0  0.0   0.0\n",
       "pixel783  42000.0  0.000000  0.000000  0.0  0.0  0.0  0.0   0.0\n",
       "\n",
       "[785 rows x 8 columns]"
      ]
     },
     "execution_count": 4,
     "metadata": {},
     "output_type": "execute_result"
    }
   ],
   "source": [
    "train.describe().T"
   ]
  },
  {
   "cell_type": "code",
   "execution_count": 5,
   "id": "d1e08392",
   "metadata": {},
   "outputs": [
    {
     "data": {
      "text/plain": [
       "(42000, 785)"
      ]
     },
     "execution_count": 5,
     "metadata": {},
     "output_type": "execute_result"
    }
   ],
   "source": [
    "train.shape"
   ]
  },
  {
   "cell_type": "code",
   "execution_count": 6,
   "id": "e2e3f354",
   "metadata": {},
   "outputs": [],
   "source": [
    "y = train.label.astype('int64')\n",
    "X = train.drop('label', axis = 1).astype('float32')\n",
    "X_train, X_test, y_train, y_test = train_test_split(X, y, test_size = 0.1)"
   ]
  },
  {
   "cell_type": "code",
   "execution_count": 7,
   "id": "7126ecd2",
   "metadata": {},
   "outputs": [],
   "source": [
    "class dataset(Dataset):\n",
    "    def __init__(self, X, y):\n",
    "        self.X = X\n",
    "        self.y = y\n",
    "    \n",
    "    def __len__(self):\n",
    "        return (self.X.shape[0])\n",
    "    \n",
    "    def __getitem__(self, index):\n",
    "        return self.X.iloc[index].values.reshape(28,28), self.y.iloc[index]\n",
    "    \n",
    "    "
   ]
  },
  {
   "cell_type": "code",
   "execution_count": 9,
   "id": "1281465b",
   "metadata": {},
   "outputs": [],
   "source": [
    "training = dataset(X_train, y_train)\n",
    "validation = dataset(X_test, y_test)"
   ]
  },
  {
   "cell_type": "code",
   "execution_count": 10,
   "id": "5b324c60",
   "metadata": {},
   "outputs": [],
   "source": [
    "train_loader = DataLoader(training, batch_size = 2500, shuffle = True)\n",
    "validation_loader = DataLoader(validation, batch_size = 1000, shuffle = False)\n"
   ]
  },
  {
   "cell_type": "code",
   "execution_count": 61,
   "id": "6a86ff0e",
   "metadata": {},
   "outputs": [],
   "source": [
    "class Model(nn.Module):\n",
    "    def __init__(self, i_d, o_d):\n",
    "        super(Model, self).__init__()\n",
    "        self.conv = nn.Conv2d(in_channels = 1, out_channels = 16, kernel_size = 5, stride = 1, padding = 0)\n",
    "        self.relu = nn.ReLU(inplace = True)\n",
    "        self.maxpool = nn.MaxPool2d(kernel_size=3)\n",
    "        self.net = nn.Sequential(nn.Linear(16 * 8 * 8, 125),\n",
    "                                 nn.ReLU(inplace = True),\n",
    "                                 nn.BatchNorm1d(125),\n",
    "                                 nn.Linear(125, 125),\n",
    "                                 nn.ReLU(inplace = True),\n",
    "                                 nn.BatchNorm1d(125),\n",
    "                                 nn.Linear(125, o_d),\n",
    "\n",
    "                                )\n",
    "    \n",
    "    def forward(self, x):\n",
    "        out = self.maxpool(self.relu(self.conv(x)))\n",
    "        out = out.view(out.shape[0], -1)\n",
    "        out = self.net(out)\n",
    "        return out"
   ]
  },
  {
   "cell_type": "code",
   "execution_count": 62,
   "id": "1505b907",
   "metadata": {
    "scrolled": true
   },
   "outputs": [],
   "source": [
    "model = Model(784, 10)\n",
    "criterion = nn.CrossEntropyLoss()\n",
    "learning_rate = 0.01\n",
    "optimizer = torch.optim.Adam(model.parameters(), lr = learning_rate)\n",
    "epoch = 50"
   ]
  },
  {
   "cell_type": "code",
   "execution_count": 63,
   "id": "274cf912",
   "metadata": {},
   "outputs": [],
   "source": [
    "loss_list = []\n",
    "training_acc = []\n",
    "validating_acc = []"
   ]
  },
  {
   "cell_type": "code",
   "execution_count": 74,
   "id": "5e396dd3",
   "metadata": {},
   "outputs": [
    {
     "name": "stdout",
     "output_type": "stream",
     "text": [
      "started\n",
      "50 | loss = 0.011579771526157856 | training_acc = 99.76 | testing_acc = 99.0\n",
      "100 | loss = 0.014367768540978432 | training_acc = 99.48 | testing_acc = 98.0\n",
      "150 | loss = 0.006922891829162836 | training_acc = 99.8 | testing_acc = 98.5\n",
      "200 | loss = 0.004153932444751263 | training_acc = 99.83999999999999 | testing_acc = 99.5\n",
      "250 | loss = 0.0008391700685024261 | training_acc = 100.0 | testing_acc = 98.0\n",
      "300 | loss = 0.00027371576288715005 | training_acc = 100.0 | testing_acc = 99.0\n",
      "350 | loss = 0.0002076940581900999 | training_acc = 100.0 | testing_acc = 99.0\n",
      "400 | loss = 5.8996043662773445e-05 | training_acc = 100.0 | testing_acc = 98.5\n",
      "450 | loss = 0.0006749816238880157 | training_acc = 100.0 | testing_acc = 99.0\n",
      "500 | loss = 0.007858890108764172 | training_acc = 99.76 | testing_acc = 98.0\n",
      "550 | loss = 0.019578060135245323 | training_acc = 99.28 | testing_acc = 98.5\n",
      "600 | loss = 0.007742660585790873 | training_acc = 99.64 | testing_acc = 98.5\n",
      "650 | loss = 0.003727532923221588 | training_acc = 99.92 | testing_acc = 98.5\n",
      "700 | loss = 0.0005945767043158412 | training_acc = 100.0 | testing_acc = 99.5\n",
      "750 | loss = 0.00012538483133539557 | training_acc = 100.0 | testing_acc = 99.5\n",
      "800 | loss = 0.0006699436926282942 | training_acc = 100.0 | testing_acc = 99.5\n"
     ]
    }
   ],
   "source": [
    "iteration = 0\n",
    "print('started')\n",
    "for i in range(epoch):\n",
    "    for pos, (image, label) in enumerate(train_loader):\n",
    "        image = image.view(image.size(0), 1, 28, 28)\n",
    "        model.train()\n",
    "        optimizer.zero_grad()\n",
    "        pred = model(image)\n",
    "        loss = criterion(pred, label)\n",
    "        loss.backward()\n",
    "        optimizer.step()\n",
    "        _, pre = torch.max(pred, 1)\n",
    "        tr_acc = accuracy_score(pre, label)\n",
    "        loss_list.append(loss.detach().item())\n",
    "        training_acc.append(tr_acc)\n",
    "        iteration += 1\n",
    "        \n",
    "        if iteration % 50 == 0:\n",
    "            for image, label in validation_loader:\n",
    "                image = image.view(image.size(0), 1, 28, 28)\n",
    "                model.eval()\n",
    "                pred = model(image)\n",
    "                _, pr = torch.max(pred, 1)\n",
    "                te_acc = accuracy_score(pr, label)\n",
    "                validating_acc.append(te_acc)\n",
    "            print(f'{iteration} | loss = {loss} | training_acc = {tr_acc *  100} | testing_acc = {te_acc * 100}')"
   ]
  },
  {
   "cell_type": "code",
   "execution_count": 75,
   "id": "d2580744",
   "metadata": {},
   "outputs": [
    {
     "data": {
      "text/plain": [
       "Text(0.5, 1.0, 'validating accuracy')"
      ]
     },
     "execution_count": 75,
     "metadata": {},
     "output_type": "execute_result"
    },
    {
     "data": {
      "image/png": "[encoded data removed]",
      "text/plain": [
       "<Figure size 576x288 with 3 Axes>"
      ]
     },
     "metadata": {
      "needs_background": "light"
     },
     "output_type": "display_data"
    }
   ],
   "source": [
    "fig, ax = plt.subplots(1,3)\n",
    "fig.set_size_inches([8, 4])\n",
    "\n",
    "ax[0].plot(loss_list, 'r')\n",
    "ax[0].set_title('loss')\n",
    "ax[1].plot(training_acc, 'b', label = 'training accuracy')\n",
    "ax[1].set_title('training accuracy')\n",
    "ax[2].plot(validating_acc, 'g', label = 'validating accuracy')\n",
    "ax[2].set_title('validating accuracy')"
   ]
  },
  {
   "cell_type": "code",
   "execution_count": 76,
   "id": "19fb54e9",
   "metadata": {},
   "outputs": [
    {
     "name": "stdout",
     "output_type": "stream",
     "text": [
      "wrong predicted === tensor([8])\n",
      "correct label  ===  tensor([5])\n"
     ]
    },
    {
     "data": {
      "image/png": "[encoded data removed]",
      "text/plain": [
       "<Figure size 432x288 with 1 Axes>"
      ]
     },
     "metadata": {
      "needs_background": "light"
     },
     "output_type": "display_data"
    }
   ],
   "source": [
    "import math\n",
    "print(f'wrong predicted === {pr[pr != label]}')\n",
    "print(f'correct label  ===  {label[pr != label]}')\n",
    "n_wrong = image[pr != label].shape[0]\n",
    "root = math.ceil(math.sqrt(n_wrong))\n",
    "for i in range(n_wrong):\n",
    "    plt.subplot(root, root,i+1 % 5)\n",
    "    im = image[pr != label][i].view(28, 28)\n",
    "    plt.imshow(im)\n",
    "    plt.title(f'X = {pr[pr != label][i].item()} ✔ = {label[pr != label]}')"
   ]
  },
  {
   "cell_type": "code",
   "execution_count": 82,
   "id": "33495d98",
   "metadata": {},
   "outputs": [],
   "source": [
    "prediction = model(torch.Tensor(test.values).view(28000, 1,28,28))"
   ]
  },
  {
   "cell_type": "code",
   "execution_count": 84,
   "id": "88d9568b",
   "metadata": {},
   "outputs": [],
   "source": [
    "_, final_prediction = torch.max(prediction, 1)"
   ]
  },
  {
   "cell_type": "code",
   "execution_count": 86,
   "id": "ab809cd4",
   "metadata": {},
   "outputs": [],
   "source": [
    "sample_submission['Label'] = final_prediction.numpy()"
   ]
  },
  {
   "cell_type": "code",
   "execution_count": 87,
   "id": "e2d9bf0c",
   "metadata": {},
   "outputs": [],
   "source": [
    "sample_submission.to_csv('submission4.csv', index = False)"
   ]
  },
  {
   "cell_type": "code",
   "execution_count": null,
   "id": "b525c75b",
   "metadata": {},
   "outputs": [],
   "source": []
  }
 ],
 "metadata": {
  "kernelspec": {
   "display_name": "Python 3 (ipykernel)",
   "language": "python",
   "name": "python3"
  },
  "language_info": {
   "codemirror_mode": {
    "name": "ipython",
    "version": 3
   },
   "file_extension": ".py",
   "mimetype": "text/x-python",
   "name": "python",
   "nbconvert_exporter": "python",
   "pygments_lexer": "ipython3",
   "version": "3.9.12"
  }
 },
 "nbformat": 4,
 "nbformat_minor": 5
}
